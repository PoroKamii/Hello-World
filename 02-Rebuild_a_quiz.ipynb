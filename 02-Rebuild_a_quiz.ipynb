{
 "cells": [
  {
   "cell_type": "markdown",
   "metadata": {},
   "source": [
    "# Build a quiz - Part 2"
   ]
  },
  {
   "cell_type": "code",
   "execution_count": null,
   "metadata": {},
   "outputs": [],
   "source": [
    "def ask_question(question, correct_answer, attempts_left):\n",
    "    \"\"\"Ask a question and check the answer with attempt management.\"\"\"\n",
    "    while attempts_left > 0:\n",
    "        answer = input(question).lower()\n",
    "        if answer == correct_answer.lower():\n",
    "            return True, attempts_left\n",
    "        attempts_left -= 1\n",
    "        print(f\"Too bad! You have {attempts_left} attempts left.\")\n",
    "        if attempts_left == 0:\n",
    "            print(\"Oh no! You lost the game...\")\n",
    "            return False, attempts_left\n",
    "    return False, attempts_left\n",
    "\n",
    "\n",
    "def quiz():\n",
    "    \n",
    "    attempts_left = 3\n",
    "    print(\"Welcome to our quiz! You have three chances!\")\n",
    "\n",
    "    questions_answers = [\n",
    "        (\"Combien de fois la France a gagné la coupe du monde ?\", \"2\"),\n",
    "        (\"Quand a été fondé Apple ?\",\"1976\"),\n",
    "        (\"Qui a fondé SpaceX ?\", \"elon musk\")\n",
    "    ]\n",
    "\n",
    "    for question, answer in questions_answers:\n",
    "        success, attempts_left = ask_question(question, answer, attempts_left)\n",
    "        if not success:\n",
    "            return\n",
    "\n",
    "    print(\"Congratulations! You won the quiz!\")\n",
    "\n",
    "\n",
    "quiz()\n"
   ]
  }
 ],
 "metadata": {
  "kernelspec": {
   "display_name": "base",
   "language": "python",
   "name": "python3"
  },
  "language_info": {
   "codemirror_mode": {
    "name": "ipython",
    "version": 3
   },
   "file_extension": ".py",
   "mimetype": "text/x-python",
   "name": "python",
   "nbconvert_exporter": "python",
   "pygments_lexer": "ipython3",
   "version": "3.12.7"
  },
  "orig_nbformat": 2
 },
 "nbformat": 4,
 "nbformat_minor": 2
}
